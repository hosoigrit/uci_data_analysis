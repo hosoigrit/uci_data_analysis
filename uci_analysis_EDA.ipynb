{
 "cells": [
  {
   "cell_type": "markdown",
   "metadata": {},
   "source": [
    "### 使用データ : https://www.kaggle.com/paresh2047/uci-semcom <br/>\n",
    "#### **★分析目的**\n",
    "対象データは半導体の製造プロセスにおける様々な測定ポイントから収集された信号/変数である。<br/>\n",
    "しかし、観測されたデータには有用な情報以外に、無価値・ノイズ情報が混じっており全ての情報を収集するにはコストや時間面から見てもあまりよろしくない。<br/>\n",
    "そこで本データ分析では半導体の製造プロセスにおける有用な情報(カラム情報)を選定し、生産コストの削減を目指すために原因推定を行う。"
   ]
  },
  {
   "cell_type": "code",
   "execution_count": null,
   "metadata": {},
   "outputs": [],
   "source": [
    "import pandas as pd\n",
    "import numpy as np\n",
    "from scipy import stats\n",
    "from matplotlib import pyplot as plt\n",
    "import seaborn as sns\n",
    "\n",
    "import warnings\n",
    "warnings.filterwarnings(\"ignore\")\n",
    "# You can go offline on demand by using\n",
    "# cf.go_offline() \n",
    "# initiate notebook for offline plot\n",
    "# init_notebook_mode(connected=False)         \n",
    "# set some display options:\n",
    "plt.rcParams['figure.dpi'] = 100\n",
    "# colors = px.colors.qualitative.Prism\n",
    "# pio.templates.default = \"plotly_white\"\n",
    "\n",
    "from matplotlib import pyplot as plt\n",
    "from sklearn.linear_model import (\n",
    "    LinearRegression,\n",
    "    Ridge,\n",
    "    Lasso\n",
    ")\n",
    "%matplotlib inline\n",
    "#グラフのフォント変換\n",
    "from matplotlib import rcParams\n",
    "rcParams['font.family'] = 'sans-serif'\n",
    "rcParams['font.sans-serif'] = ['Hiragino Maru Gothic Pro', 'Yu Gothic', 'Meirio', 'Takao', 'IPAexGothic', 'IPAPGothic', 'VL PGothic', 'Noto Sans CJK JP']\n",
    "\n",
    "from sklearn import svm, metrics\n",
    "from sklearn.model_selection import GridSearchCV\n",
    "from sklearn.model_selection import cross_val_score\n",
    "from sklearn.model_selection import KFold"
   ]
  },
  {
   "cell_type": "code",
   "execution_count": 2,
   "metadata": {},
   "outputs": [
    {
     "name": "stdout",
     "output_type": "stream",
     "text": [
      "(1567, 592)\n"
     ]
    },
    {
     "data": {
      "text/html": [
       "<div>\n",
       "<style scoped>\n",
       "    .dataframe tbody tr th:only-of-type {\n",
       "        vertical-align: middle;\n",
       "    }\n",
       "\n",
       "    .dataframe tbody tr th {\n",
       "        vertical-align: top;\n",
       "    }\n",
       "\n",
       "    .dataframe thead th {\n",
       "        text-align: right;\n",
       "    }\n",
       "</style>\n",
       "<table border=\"1\" class=\"dataframe\">\n",
       "  <thead>\n",
       "    <tr style=\"text-align: right;\">\n",
       "      <th></th>\n",
       "      <th>Time</th>\n",
       "      <th>0</th>\n",
       "      <th>1</th>\n",
       "      <th>2</th>\n",
       "      <th>3</th>\n",
       "      <th>4</th>\n",
       "      <th>5</th>\n",
       "      <th>6</th>\n",
       "      <th>7</th>\n",
       "      <th>8</th>\n",
       "      <th>...</th>\n",
       "      <th>581</th>\n",
       "      <th>582</th>\n",
       "      <th>583</th>\n",
       "      <th>584</th>\n",
       "      <th>585</th>\n",
       "      <th>586</th>\n",
       "      <th>587</th>\n",
       "      <th>588</th>\n",
       "      <th>589</th>\n",
       "      <th>Pass/Fail</th>\n",
       "    </tr>\n",
       "  </thead>\n",
       "  <tbody>\n",
       "    <tr>\n",
       "      <th>0</th>\n",
       "      <td>2008-07-19 11:55:00</td>\n",
       "      <td>3030.93</td>\n",
       "      <td>2564.00</td>\n",
       "      <td>2187.7333</td>\n",
       "      <td>1411.1265</td>\n",
       "      <td>1.3602</td>\n",
       "      <td>100.0</td>\n",
       "      <td>97.6133</td>\n",
       "      <td>0.1242</td>\n",
       "      <td>1.5005</td>\n",
       "      <td>...</td>\n",
       "      <td>NaN</td>\n",
       "      <td>0.5005</td>\n",
       "      <td>0.0118</td>\n",
       "      <td>0.0035</td>\n",
       "      <td>2.3630</td>\n",
       "      <td>NaN</td>\n",
       "      <td>NaN</td>\n",
       "      <td>NaN</td>\n",
       "      <td>NaN</td>\n",
       "      <td>-1</td>\n",
       "    </tr>\n",
       "    <tr>\n",
       "      <th>1</th>\n",
       "      <td>2008-07-19 12:32:00</td>\n",
       "      <td>3095.78</td>\n",
       "      <td>2465.14</td>\n",
       "      <td>2230.4222</td>\n",
       "      <td>1463.6606</td>\n",
       "      <td>0.8294</td>\n",
       "      <td>100.0</td>\n",
       "      <td>102.3433</td>\n",
       "      <td>0.1247</td>\n",
       "      <td>1.4966</td>\n",
       "      <td>...</td>\n",
       "      <td>208.2045</td>\n",
       "      <td>0.5019</td>\n",
       "      <td>0.0223</td>\n",
       "      <td>0.0055</td>\n",
       "      <td>4.4447</td>\n",
       "      <td>0.0096</td>\n",
       "      <td>0.0201</td>\n",
       "      <td>0.0060</td>\n",
       "      <td>208.2045</td>\n",
       "      <td>-1</td>\n",
       "    </tr>\n",
       "    <tr>\n",
       "      <th>2</th>\n",
       "      <td>2008-07-19 13:17:00</td>\n",
       "      <td>2932.61</td>\n",
       "      <td>2559.94</td>\n",
       "      <td>2186.4111</td>\n",
       "      <td>1698.0172</td>\n",
       "      <td>1.5102</td>\n",
       "      <td>100.0</td>\n",
       "      <td>95.4878</td>\n",
       "      <td>0.1241</td>\n",
       "      <td>1.4436</td>\n",
       "      <td>...</td>\n",
       "      <td>82.8602</td>\n",
       "      <td>0.4958</td>\n",
       "      <td>0.0157</td>\n",
       "      <td>0.0039</td>\n",
       "      <td>3.1745</td>\n",
       "      <td>0.0584</td>\n",
       "      <td>0.0484</td>\n",
       "      <td>0.0148</td>\n",
       "      <td>82.8602</td>\n",
       "      <td>1</td>\n",
       "    </tr>\n",
       "    <tr>\n",
       "      <th>3</th>\n",
       "      <td>2008-07-19 14:43:00</td>\n",
       "      <td>2988.72</td>\n",
       "      <td>2479.90</td>\n",
       "      <td>2199.0333</td>\n",
       "      <td>909.7926</td>\n",
       "      <td>1.3204</td>\n",
       "      <td>100.0</td>\n",
       "      <td>104.2367</td>\n",
       "      <td>0.1217</td>\n",
       "      <td>1.4882</td>\n",
       "      <td>...</td>\n",
       "      <td>73.8432</td>\n",
       "      <td>0.4990</td>\n",
       "      <td>0.0103</td>\n",
       "      <td>0.0025</td>\n",
       "      <td>2.0544</td>\n",
       "      <td>0.0202</td>\n",
       "      <td>0.0149</td>\n",
       "      <td>0.0044</td>\n",
       "      <td>73.8432</td>\n",
       "      <td>-1</td>\n",
       "    </tr>\n",
       "    <tr>\n",
       "      <th>4</th>\n",
       "      <td>2008-07-19 15:22:00</td>\n",
       "      <td>3032.24</td>\n",
       "      <td>2502.87</td>\n",
       "      <td>2233.3667</td>\n",
       "      <td>1326.5200</td>\n",
       "      <td>1.5334</td>\n",
       "      <td>100.0</td>\n",
       "      <td>100.3967</td>\n",
       "      <td>0.1235</td>\n",
       "      <td>1.5031</td>\n",
       "      <td>...</td>\n",
       "      <td>NaN</td>\n",
       "      <td>0.4800</td>\n",
       "      <td>0.4766</td>\n",
       "      <td>0.1045</td>\n",
       "      <td>99.3032</td>\n",
       "      <td>0.0202</td>\n",
       "      <td>0.0149</td>\n",
       "      <td>0.0044</td>\n",
       "      <td>73.8432</td>\n",
       "      <td>-1</td>\n",
       "    </tr>\n",
       "  </tbody>\n",
       "</table>\n",
       "<p>5 rows × 592 columns</p>\n",
       "</div>"
      ],
      "text/plain": [
       "                  Time        0        1          2          3       4      5  \\\n",
       "0  2008-07-19 11:55:00  3030.93  2564.00  2187.7333  1411.1265  1.3602  100.0   \n",
       "1  2008-07-19 12:32:00  3095.78  2465.14  2230.4222  1463.6606  0.8294  100.0   \n",
       "2  2008-07-19 13:17:00  2932.61  2559.94  2186.4111  1698.0172  1.5102  100.0   \n",
       "3  2008-07-19 14:43:00  2988.72  2479.90  2199.0333   909.7926  1.3204  100.0   \n",
       "4  2008-07-19 15:22:00  3032.24  2502.87  2233.3667  1326.5200  1.5334  100.0   \n",
       "\n",
       "          6       7       8  ...       581     582     583     584      585  \\\n",
       "0   97.6133  0.1242  1.5005  ...       NaN  0.5005  0.0118  0.0035   2.3630   \n",
       "1  102.3433  0.1247  1.4966  ...  208.2045  0.5019  0.0223  0.0055   4.4447   \n",
       "2   95.4878  0.1241  1.4436  ...   82.8602  0.4958  0.0157  0.0039   3.1745   \n",
       "3  104.2367  0.1217  1.4882  ...   73.8432  0.4990  0.0103  0.0025   2.0544   \n",
       "4  100.3967  0.1235  1.5031  ...       NaN  0.4800  0.4766  0.1045  99.3032   \n",
       "\n",
       "      586     587     588       589  Pass/Fail  \n",
       "0     NaN     NaN     NaN       NaN         -1  \n",
       "1  0.0096  0.0201  0.0060  208.2045         -1  \n",
       "2  0.0584  0.0484  0.0148   82.8602          1  \n",
       "3  0.0202  0.0149  0.0044   73.8432         -1  \n",
       "4  0.0202  0.0149  0.0044   73.8432         -1  \n",
       "\n",
       "[5 rows x 592 columns]"
      ]
     },
     "execution_count": 2,
     "metadata": {},
     "output_type": "execute_result"
    }
   ],
   "source": [
    "df = pd.read_csv('uci-secom.csv')\n",
    "print(df.shape)\n",
    "df.head()"
   ]
  },
  {
   "cell_type": "code",
   "execution_count": 3,
   "metadata": {},
   "outputs": [
    {
     "data": {
      "text/html": [
       "<div>\n",
       "<style scoped>\n",
       "    .dataframe tbody tr th:only-of-type {\n",
       "        vertical-align: middle;\n",
       "    }\n",
       "\n",
       "    .dataframe tbody tr th {\n",
       "        vertical-align: top;\n",
       "    }\n",
       "\n",
       "    .dataframe thead th {\n",
       "        text-align: right;\n",
       "    }\n",
       "</style>\n",
       "<table border=\"1\" class=\"dataframe\">\n",
       "  <thead>\n",
       "    <tr style=\"text-align: right;\">\n",
       "      <th></th>\n",
       "      <th>Time</th>\n",
       "      <th>0</th>\n",
       "      <th>1</th>\n",
       "      <th>2</th>\n",
       "      <th>3</th>\n",
       "      <th>4</th>\n",
       "      <th>5</th>\n",
       "      <th>6</th>\n",
       "      <th>7</th>\n",
       "      <th>8</th>\n",
       "      <th>...</th>\n",
       "      <th>581</th>\n",
       "      <th>582</th>\n",
       "      <th>583</th>\n",
       "      <th>584</th>\n",
       "      <th>585</th>\n",
       "      <th>586</th>\n",
       "      <th>587</th>\n",
       "      <th>588</th>\n",
       "      <th>589</th>\n",
       "      <th>Pass/Fail</th>\n",
       "    </tr>\n",
       "  </thead>\n",
       "  <tbody>\n",
       "    <tr>\n",
       "      <th>1562</th>\n",
       "      <td>2008-12-10 02:59:00</td>\n",
       "      <td>2968.78</td>\n",
       "      <td>2451.53</td>\n",
       "      <td>2207.1000</td>\n",
       "      <td>1298.4309</td>\n",
       "      <td>1.0251</td>\n",
       "      <td>100.0</td>\n",
       "      <td>96.9478</td>\n",
       "      <td>0.1203</td>\n",
       "      <td>1.3985</td>\n",
       "      <td>...</td>\n",
       "      <td>185.3578</td>\n",
       "      <td>0.4972</td>\n",
       "      <td>0.0133</td>\n",
       "      <td>0.0036</td>\n",
       "      <td>2.6718</td>\n",
       "      <td>0.0167</td>\n",
       "      <td>0.0310</td>\n",
       "      <td>0.0084</td>\n",
       "      <td>185.3578</td>\n",
       "      <td>-1</td>\n",
       "    </tr>\n",
       "    <tr>\n",
       "      <th>1563</th>\n",
       "      <td>2008-12-10 03:21:00</td>\n",
       "      <td>2898.17</td>\n",
       "      <td>2547.65</td>\n",
       "      <td>NaN</td>\n",
       "      <td>NaN</td>\n",
       "      <td>NaN</td>\n",
       "      <td>NaN</td>\n",
       "      <td>NaN</td>\n",
       "      <td>0.0000</td>\n",
       "      <td>1.4425</td>\n",
       "      <td>...</td>\n",
       "      <td>NaN</td>\n",
       "      <td>0.5036</td>\n",
       "      <td>0.0161</td>\n",
       "      <td>0.0040</td>\n",
       "      <td>3.1902</td>\n",
       "      <td>0.0167</td>\n",
       "      <td>0.0310</td>\n",
       "      <td>0.0084</td>\n",
       "      <td>185.3578</td>\n",
       "      <td>-1</td>\n",
       "    </tr>\n",
       "    <tr>\n",
       "      <th>1564</th>\n",
       "      <td>2008-12-10 03:28:00</td>\n",
       "      <td>3045.87</td>\n",
       "      <td>2493.72</td>\n",
       "      <td>2168.5111</td>\n",
       "      <td>1171.6442</td>\n",
       "      <td>0.8752</td>\n",
       "      <td>100.0</td>\n",
       "      <td>101.6567</td>\n",
       "      <td>0.1235</td>\n",
       "      <td>1.5442</td>\n",
       "      <td>...</td>\n",
       "      <td>NaN</td>\n",
       "      <td>0.4998</td>\n",
       "      <td>0.0234</td>\n",
       "      <td>0.0050</td>\n",
       "      <td>4.6735</td>\n",
       "      <td>0.0167</td>\n",
       "      <td>0.0310</td>\n",
       "      <td>0.0084</td>\n",
       "      <td>185.3578</td>\n",
       "      <td>-1</td>\n",
       "    </tr>\n",
       "    <tr>\n",
       "      <th>1565</th>\n",
       "      <td>2008-12-10 08:19:00</td>\n",
       "      <td>2926.38</td>\n",
       "      <td>2383.76</td>\n",
       "      <td>2207.1000</td>\n",
       "      <td>1298.4309</td>\n",
       "      <td>1.0251</td>\n",
       "      <td>100.0</td>\n",
       "      <td>96.9478</td>\n",
       "      <td>0.1203</td>\n",
       "      <td>1.3561</td>\n",
       "      <td>...</td>\n",
       "      <td>128.6840</td>\n",
       "      <td>0.4986</td>\n",
       "      <td>0.0132</td>\n",
       "      <td>0.0038</td>\n",
       "      <td>2.6468</td>\n",
       "      <td>0.0172</td>\n",
       "      <td>0.0222</td>\n",
       "      <td>0.0072</td>\n",
       "      <td>128.6840</td>\n",
       "      <td>-1</td>\n",
       "    </tr>\n",
       "    <tr>\n",
       "      <th>1566</th>\n",
       "      <td>2008-12-10 18:47:00</td>\n",
       "      <td>3033.46</td>\n",
       "      <td>2424.39</td>\n",
       "      <td>2204.6667</td>\n",
       "      <td>1078.7860</td>\n",
       "      <td>0.9152</td>\n",
       "      <td>100.0</td>\n",
       "      <td>103.9611</td>\n",
       "      <td>0.1196</td>\n",
       "      <td>1.2898</td>\n",
       "      <td>...</td>\n",
       "      <td>58.7670</td>\n",
       "      <td>0.5008</td>\n",
       "      <td>0.0140</td>\n",
       "      <td>0.0037</td>\n",
       "      <td>2.7936</td>\n",
       "      <td>0.0246</td>\n",
       "      <td>0.0145</td>\n",
       "      <td>0.0038</td>\n",
       "      <td>58.7670</td>\n",
       "      <td>-1</td>\n",
       "    </tr>\n",
       "  </tbody>\n",
       "</table>\n",
       "<p>5 rows × 592 columns</p>\n",
       "</div>"
      ],
      "text/plain": [
       "                     Time        0        1          2          3       4  \\\n",
       "1562  2008-12-10 02:59:00  2968.78  2451.53  2207.1000  1298.4309  1.0251   \n",
       "1563  2008-12-10 03:21:00  2898.17  2547.65        NaN        NaN     NaN   \n",
       "1564  2008-12-10 03:28:00  3045.87  2493.72  2168.5111  1171.6442  0.8752   \n",
       "1565  2008-12-10 08:19:00  2926.38  2383.76  2207.1000  1298.4309  1.0251   \n",
       "1566  2008-12-10 18:47:00  3033.46  2424.39  2204.6667  1078.7860  0.9152   \n",
       "\n",
       "          5         6       7       8  ...       581     582     583     584  \\\n",
       "1562  100.0   96.9478  0.1203  1.3985  ...  185.3578  0.4972  0.0133  0.0036   \n",
       "1563    NaN       NaN  0.0000  1.4425  ...       NaN  0.5036  0.0161  0.0040   \n",
       "1564  100.0  101.6567  0.1235  1.5442  ...       NaN  0.4998  0.0234  0.0050   \n",
       "1565  100.0   96.9478  0.1203  1.3561  ...  128.6840  0.4986  0.0132  0.0038   \n",
       "1566  100.0  103.9611  0.1196  1.2898  ...   58.7670  0.5008  0.0140  0.0037   \n",
       "\n",
       "         585     586     587     588       589  Pass/Fail  \n",
       "1562  2.6718  0.0167  0.0310  0.0084  185.3578         -1  \n",
       "1563  3.1902  0.0167  0.0310  0.0084  185.3578         -1  \n",
       "1564  4.6735  0.0167  0.0310  0.0084  185.3578         -1  \n",
       "1565  2.6468  0.0172  0.0222  0.0072  128.6840         -1  \n",
       "1566  2.7936  0.0246  0.0145  0.0038   58.7670         -1  \n",
       "\n",
       "[5 rows x 592 columns]"
      ]
     },
     "execution_count": 3,
     "metadata": {},
     "output_type": "execute_result"
    }
   ],
   "source": [
    "#時系列順に並び変える\n",
    "df = df.sort_values('Time')\n",
    "df = df.reset_index(drop=True)\n",
    "df.tail()"
   ]
  },
  {
   "cell_type": "code",
   "execution_count": 4,
   "metadata": {},
   "outputs": [],
   "source": [
    "#目的変数の1,0化\n",
    "for i,value in enumerate(df['Pass/Fail']):\n",
    "    if value == -1:\n",
    "        df['Pass/Fail'][i] = 0\n",
    "    else:\n",
    "        df['Pass/Fail'][i] = 1"
   ]
  },
  {
   "cell_type": "code",
   "execution_count": 5,
   "metadata": {},
   "outputs": [],
   "source": [
    "#欠損値の確認\n",
    "def null_values(df):\n",
    "    \"\"\"a function to show null values with percentage\"\"\"\n",
    "    nv=pd.concat([df.isnull().sum(), 100 * df.isnull().sum()/df.shape[0]],axis=1).rename(columns={0:'Missing_Records', 1:'Percentage'})\n",
    "    return nv[nv.Missing_Records>0].sort_values('Missing_Records', ascending=False)\n",
    "\n",
    "df_na = null_values(df)\n",
    "df_na_index = df_na.index"
   ]
  },
  {
   "cell_type": "markdown",
   "metadata": {},
   "source": [
    "## 欠損の中身の傾向を把握する"
   ]
  },
  {
   "cell_type": "code",
   "execution_count": 6,
   "metadata": {
    "collapsed": true,
    "jupyter": {
     "outputs_hidden": true
    }
   },
   "outputs": [
    {
     "name": "stdout",
     "output_type": "stream",
     "text": [
      "説明変数292の散布図\n"
     ]
    },
    {
     "data": {
      "image/png": "[encoded data removed]",
      "text/plain": [
       "<Figure size 432x288 with 1 Axes>"
      ]
     },
     "metadata": {
      "needs_background": "light"
     },
     "output_type": "display_data"
    },
    {
     "name": "stdout",
     "output_type": "stream",
     "text": [
      "説明変数293の散布図\n"
     ]
    },
    {
     "data": {
      "image/png": "[encoded data removed]",
      "text/plain": [
       "<Figure size 432x288 with 1 Axes>"
      ]
     },
     "metadata": {
      "needs_background": "light"
     },
     "output_type": "display_data"
    },
    {
     "name": "stdout",
     "output_type": "stream",
     "text": [
      "説明変数157の散布図\n"
     ]
    },
    {
     "data": {
      "image/png": "[encoded data removed]",
      "text/plain": [
       "<Figure size 432x288 with 1 Axes>"
      ]
     },
     "metadata": {
      "needs_background": "light"
     },
     "output_type": "display_data"
    },
    {
     "name": "stdout",
     "output_type": "stream",
     "text": [
      "説明変数158の散布図\n"
     ]
    },
    {
     "data": {
      "image/png": "[encoded data removed]",
      "text/plain": [
       "<Figure size 432x288 with 1 Axes>"
      ]
     },
     "metadata": {
      "needs_background": "light"
     },
     "output_type": "display_data"
    },
    {
     "name": "stdout",
     "output_type": "stream",
     "text": [
      "説明変数358の散布図\n"
     ]
    },
    {
     "data": {
      "image/png": "[encoded data removed]",
      "text/plain": [
       "<Figure size 432x288 with 1 Axes>"
      ]
     },
     "metadata": {
      "needs_background": "light"
     },
     "output_type": "display_data"
    },
    {
     "name": "stdout",
     "output_type": "stream",
     "text": [
      "説明変数85の散布図\n"
     ]
    },
    {
     "data": {
      "image/png": "[encoded data removed]",
      "text/plain": [
       "<Figure size 432x288 with 1 Axes>"
      ]
     },
     "metadata": {
      "needs_background": "light"
     },
     "output_type": "display_data"
    },
    {
     "name": "stdout",
     "output_type": "stream",
     "text": [
      "説明変数492の散布図\n"
     ]
    },
    {
     "data": {
      "image/png": "[encoded data removed]",
      "text/plain": [
       "<Figure size 432x288 with 1 Axes>"
      ]
     },
     "metadata": {
      "needs_background": "light"
     },
     "output_type": "display_data"
    },
    {
     "name": "stdout",
     "output_type": "stream",
     "text": [
      "説明変数220の散布図\n"
     ]
    },
    {
     "data": {
      "image/png": "[encoded data removed]",
      "text/plain": [
       "<Figure size 432x288 with 1 Axes>"
      ]
     },
     "metadata": {
      "needs_background": "light"
     },
     "output_type": "display_data"
    },
    {
     "name": "stdout",
     "output_type": "stream",
     "text": [
      "説明変数518の散布図\n"
     ]
    },
    {
     "data": {
      "image/png": "[encoded data removed]",
      "text/plain": [
       "<Figure size 432x288 with 1 Axes>"
      ]
     },
     "metadata": {
      "needs_background": "light"
     },
     "output_type": "display_data"
    },
    {
     "name": "stdout",
     "output_type": "stream",
     "text": [
      "説明変数246の散布図\n"
     ]
    },
    {
     "data": {
      "image/png": "[encoded data removed]",
      "text/plain": [
       "<Figure size 432x288 with 1 Axes>"
      ]
     },
     "metadata": {
      "needs_background": "light"
     },
     "output_type": "display_data"
    },
    {
     "name": "stdout",
     "output_type": "stream",
     "text": [
      "説明変数245の散布図\n"
     ]
    },
    {
     "data": {
      "image/png": "[encoded data removed]",
      "text/plain": [
       "<Figure size 432x288 with 1 Axes>"
      ]
     },
     "metadata": {
      "needs_background": "light"
     },
     "output_type": "display_data"
    },
    {
     "name": "stdout",
     "output_type": "stream",
     "text": [
      "説明変数516の散布図\n"
     ]
    },
    {
     "data": {
      "image/png": "[encoded data removed]",
      "text/plain": [
       "<Figure size 432x288 with 1 Axes>"
      ]
     },
     "metadata": {
      "needs_background": "light"
     },
     "output_type": "display_data"
    },
    {
     "name": "stdout",
     "output_type": "stream",
     "text": [
      "説明変数517の散布図\n"
     ]
    },
    {
     "data": {
      "image/png": "[encoded data removed]",
      "text/plain": [
       "<Figure size 432x288 with 1 Axes>"
      ]
     },
     "metadata": {
      "needs_background": "light"
     },
     "output_type": "display_data"
    },
    {
     "name": "stdout",
     "output_type": "stream",
     "text": [
      "説明変数110の散布図\n"
     ]
    },
    {
     "data": {
      "image/png": "[encoded data removed]",
      "text/plain": [
       "<Figure size 432x288 with 1 Axes>"
      ]
     },
     "metadata": {
      "needs_background": "light"
     },
     "output_type": "display_data"
    },
    {
     "name": "stdout",
     "output_type": "stream",
     "text": [
      "説明変数384の散布図\n"
     ]
    },
    {
     "data": {
      "image/png": "[encoded data removed]",
      "text/plain": [
       "<Figure size 432x288 with 1 Axes>"
      ]
     },
     "metadata": {
      "needs_background": "light"
     },
     "output_type": "display_data"
    },
    {
     "name": "stdout",
     "output_type": "stream",
     "text": [
      "説明変数382の散布図\n"
     ]
    },
    {
     "data": {
      "image/png": "[encoded data removed]",
      "text/plain": [
       "<Figure size 432x288 with 1 Axes>"
      ]
     },
     "metadata": {
      "needs_background": "light"
     },
     "output_type": "display_data"
    },
    {
     "name": "stdout",
     "output_type": "stream",
     "text": [
      "説明変数383の散布図\n"
     ]
    },
    {
     "data": {
      "image/png": "[encoded data removed]",
      "text/plain": [
       "<Figure size 432x288 with 1 Axes>"
      ]
     },
     "metadata": {
      "needs_background": "light"
     },
     "output_type": "display_data"
    },
    {
     "name": "stdout",
     "output_type": "stream",
     "text": [
      "説明変数109の散布図\n"
     ]
    },
    {
     "data": {
      "image/png": "[encoded data removed]",
      "text/plain": [
       "<Figure size 432x288 with 1 Axes>"
      ]
     },
     "metadata": {
      "needs_background": "light"
     },
     "output_type": "display_data"
    },
    {
     "name": "stdout",
     "output_type": "stream",
     "text": [
      "説明変数244の散布図\n"
     ]
    },
    {
     "data": {
      "image/png": "[encoded data removed]",
      "text/plain": [
       "<Figure size 432x288 with 1 Axes>"
      ]
     },
     "metadata": {
      "needs_background": "light"
     },
     "output_type": "display_data"
    },
    {
     "name": "stdout",
     "output_type": "stream",
     "text": [
      "説明変数111の散布図\n"
     ]
    },
    {
     "data": {
      "image/png": "[encoded data removed]",
      "text/plain": [
       "<Figure size 432x288 with 1 Axes>"
      ]
     },
     "metadata": {
      "needs_background": "light"
     },
     "output_type": "display_data"
    },
    {
     "name": "stdout",
     "output_type": "stream",
     "text": [
      "説明変数580の散布図\n"
     ]
    },
    {
     "data": {
      "image/png": "[encoded data removed]",
      "text/plain": [
       "<Figure size 432x288 with 1 Axes>"
      ]
     },
     "metadata": {
      "needs_background": "light"
     },
     "output_type": "display_data"
    },
    {
     "name": "stdout",
     "output_type": "stream",
     "text": [
      "説明変数578の散布図\n"
     ]
    },
    {
     "data": {
      "image/png": "[encoded data removed]",
      "text/plain": [
       "<Figure size 432x288 with 1 Axes>"
      ]
     },
     "metadata": {
      "needs_background": "light"
     },
     "output_type": "display_data"
    },
    {
     "name": "stdout",
     "output_type": "stream",
     "text": [
      "説明変数581の散布図\n"
     ]
    },
    {
     "data": {
      "image/png": "[encoded data removed]",
      "text/plain": [
       "<Figure size 432x288 with 1 Axes>"
      ]
     },
     "metadata": {
      "needs_background": "light"
     },
     "output_type": "display_data"
    },
    {
     "name": "stdout",
     "output_type": "stream",
     "text": [
      "説明変数579の散布図\n"
     ]
    },
    {
     "data": {
      "image/png": "[encoded data removed]",
      "text/plain": [
       "<Figure size 432x288 with 1 Axes>"
      ]
     },
     "metadata": {
      "needs_background": "light"
     },
     "output_type": "display_data"
    },
    {
     "name": "stdout",
     "output_type": "stream",
     "text": [
      "説明変数73の散布図\n"
     ]
    },
    {
     "data": {
      "image/png": "[encoded data removed]",
      "text/plain": [
       "<Figure size 432x288 with 1 Axes>"
      ]
     },
     "metadata": {
      "needs_background": "light"
     },
     "output_type": "display_data"
    },
    {
     "name": "stdout",
     "output_type": "stream",
     "text": [
      "説明変数72の散布図\n"
     ]
    },
    {
     "data": {
      "image/png": "[encoded data removed]",
      "text/plain": [
       "<Figure size 432x288 with 1 Axes>"
      ]
     },
     "metadata": {
      "needs_background": "light"
     },
     "output_type": "display_data"
    },
    {
     "name": "stdout",
     "output_type": "stream",
     "text": [
      "説明変数345の散布図\n"
     ]
    },
    {
     "data": {
      "image/png": "[encoded data removed]",
      "text/plain": [
       "<Figure size 432x288 with 1 Axes>"
      ]
     },
     "metadata": {
      "needs_background": "light"
     },
     "output_type": "display_data"
    },
    {
     "name": "stdout",
     "output_type": "stream",
     "text": [
      "説明変数346の散布図\n"
     ]
    },
    {
     "data": {
      "image/png": "[encoded data removed]",
      "text/plain": [
       "<Figure size 432x288 with 1 Axes>"
      ]
     },
     "metadata": {
      "needs_background": "light"
     },
     "output_type": "display_data"
    },
    {
     "name": "stdout",
     "output_type": "stream",
     "text": [
      "説明変数519の散布図\n"
     ]
    },
    {
     "data": {
      "image/png": "[encoded data removed]",
      "text/plain": [
       "<Figure size 432x288 with 1 Axes>"
      ]
     },
     "metadata": {
      "needs_background": "light"
     },
     "output_type": "display_data"
    },
    {
     "name": "stdout",
     "output_type": "stream",
     "text": [
      "説明変数247の散布図\n"
     ]
    },
    {
     "data": {
      "image/png": "[encoded data removed]",
      "text/plain": [
       "<Figure size 432x288 with 1 Axes>"
      ]
     },
     "metadata": {
      "needs_background": "light"
     },
     "output_type": "display_data"
    },
    {
     "name": "stdout",
     "output_type": "stream",
     "text": [
      "説明変数385の散布図\n"
     ]
    },
    {
     "data": {
      "image/png": "[encoded data removed]",
      "text/plain": [
       "<Figure size 432x288 with 1 Axes>"
      ]
     },
     "metadata": {
      "needs_background": "light"
     },
     "output_type": "display_data"
    },
    {
     "name": "stdout",
     "output_type": "stream",
     "text": [
      "説明変数112の散布図\n"
     ]
    },
    {
     "data": {
      "image/png": "[encoded data removed]",
      "text/plain": [
       "<Figure size 432x288 with 1 Axes>"
      ]
     },
     "metadata": {
      "needs_background": "light"
     },
     "output_type": "display_data"
    }
   ],
   "source": [
    "for i in df_na[0:32].index:\n",
    "    print(f'説明変数{i}の散布図')\n",
    "    x1 = df[df['Pass/Fail'] == 0][i]\n",
    "    y1 = df[df['Pass/Fail'] == 0]['Pass/Fail']\n",
    "    x2 = df[df['Pass/Fail'] == 1][i]\n",
    "    y2 = df[df['Pass/Fail'] == 1]['Pass/Fail']\n",
    "    fig = plt.figure()\n",
    "    ax = fig.add_subplot(1, 1, 1)\n",
    "\n",
    "    # x1, y1を青色でプロット\n",
    "    ax.scatter(x1, y1, s=10, alpha=0.5, linewidths=2, c='#aaaaFF', edgecolors='b')\n",
    "    # x2, y2を赤色でプロット\n",
    "    ax.scatter(x2, y2, s=10, alpha=0.5, linewidths=2, c='#FFaaaa', edgecolors='r')\n",
    "    plt.show()"
   ]
  },
  {
   "cell_type": "code",
   "execution_count": 7,
   "metadata": {},
   "outputs": [
    {
     "data": {
      "text/plain": [
       "Index(['292', '293', '157', '158', '358', '85', '492', '220', '518', '246',\n",
       "       '245', '516', '517', '110', '384', '382', '383', '109', '244', '111',\n",
       "       '580', '578', '581', '579', '73', '72', '345', '346', '519', '247',\n",
       "       '385', '112'],\n",
       "      dtype='object')"
      ]
     },
     "execution_count": 7,
     "metadata": {},
     "output_type": "execute_result"
    }
   ],
   "source": [
    "df_na[0:32].index"
   ]
  },
  {
   "cell_type": "code",
   "execution_count": 8,
   "metadata": {},
   "outputs": [],
   "source": [
    "#t検定,u検定の実施\n",
    "features=df_na[0:32].index\n",
    "depend_feature_t_certificate=[]\n",
    "depend_feature_u_certificate=[]\n",
    "\n",
    "for features in features:\n",
    "    # 合格\n",
    "    Pass = df[df['Pass/Fail'] == 0][features]\n",
    "    # 不合格\n",
    "    Fail = df[df['Pass/Fail'] == 1][features]\n",
    "\n",
    "    #対応しない2郡間の差の検定\n",
    "    A_var = np.var(Pass, ddof=1)  # Aの不偏分散\n",
    "    B_var = np.var(Fail, ddof=1)  # Bの不偏分散\n",
    "    A_df = len(Pass) - 1  # Aの自由度\n",
    "    B_df = len(Fail) - 1  # Bの自由度\n",
    "    \n",
    "    try:\n",
    "        f = A_var / B_var  # F比の値\n",
    "        one_sided_pval1 = stats.f.cdf(f, A_df, B_df)  # 片側検定のp値 1\n",
    "        one_sided_pval2 = stats.f.sf(f, A_df, B_df)   # 片側検定のp値 2\n",
    "        two_sided_pval = min(one_sided_pval1, one_sided_pval2) * 2  # 両側検定のp値\n",
    "\n",
    "#         print(f'説明変数「{features}」のt検定P値:{stats.ttest_ind(Pass, Fail)[1]}')\n",
    "#         print(f'説明変数「{features}」のu検定P値:{stats.mannwhitneyu(Pass, Fail, alternative='two-sided')[1]}')\n",
    "        \n",
    "        if stats.ttest_ind(Pass, Fail)[1] < 0.05:\n",
    "            depend_feature_t_certificate.append(features)\n",
    "        elif stats.mannwhitneyu(Pass, Fail, alternative='two-sided')[1] < 0.05:\n",
    "            depend_feature_u_certificate.append(features)\n",
    "        else:\n",
    "            continue\n",
    "    except ZeroDivisionError:\n",
    "        pass"
   ]
  },
  {
   "cell_type": "code",
   "execution_count": 9,
   "metadata": {},
   "outputs": [
    {
     "data": {
      "text/plain": [
       "[]"
      ]
     },
     "execution_count": 9,
     "metadata": {},
     "output_type": "execute_result"
    }
   ],
   "source": [
    "depend_feature_t_certificate #(該当する有意差がない →独立ではない)"
   ]
  },
  {
   "cell_type": "code",
   "execution_count": 11,
   "metadata": {},
   "outputs": [
    {
     "name": "stdout",
     "output_type": "stream",
     "text": [
      "(1567, 560)\n"
     ]
    },
    {
     "data": {
      "text/html": [
       "<div>\n",
       "<style scoped>\n",
       "    .dataframe tbody tr th:only-of-type {\n",
       "        vertical-align: middle;\n",
       "    }\n",
       "\n",
       "    .dataframe tbody tr th {\n",
       "        vertical-align: top;\n",
       "    }\n",
       "\n",
       "    .dataframe thead th {\n",
       "        text-align: right;\n",
       "    }\n",
       "</style>\n",
       "<table border=\"1\" class=\"dataframe\">\n",
       "  <thead>\n",
       "    <tr style=\"text-align: right;\">\n",
       "      <th></th>\n",
       "      <th>Time</th>\n",
       "      <th>0</th>\n",
       "      <th>1</th>\n",
       "      <th>2</th>\n",
       "      <th>3</th>\n",
       "      <th>4</th>\n",
       "      <th>5</th>\n",
       "      <th>6</th>\n",
       "      <th>7</th>\n",
       "      <th>8</th>\n",
       "      <th>...</th>\n",
       "      <th>577</th>\n",
       "      <th>582</th>\n",
       "      <th>583</th>\n",
       "      <th>584</th>\n",
       "      <th>585</th>\n",
       "      <th>586</th>\n",
       "      <th>587</th>\n",
       "      <th>588</th>\n",
       "      <th>589</th>\n",
       "      <th>Pass/Fail</th>\n",
       "    </tr>\n",
       "  </thead>\n",
       "  <tbody>\n",
       "    <tr>\n",
       "      <th>0</th>\n",
       "      <td>2008-01-08 02:02:00</td>\n",
       "      <td>3016.64</td>\n",
       "      <td>2492.80</td>\n",
       "      <td>2246.4889</td>\n",
       "      <td>1006.9548</td>\n",
       "      <td>1.0997</td>\n",
       "      <td>100.0</td>\n",
       "      <td>103.3222</td>\n",
       "      <td>0.1184</td>\n",
       "      <td>1.5068</td>\n",
       "      <td>...</td>\n",
       "      <td>21.2281</td>\n",
       "      <td>0.4984</td>\n",
       "      <td>0.0146</td>\n",
       "      <td>0.0040</td>\n",
       "      <td>2.9336</td>\n",
       "      <td>0.0296</td>\n",
       "      <td>0.0062</td>\n",
       "      <td>0.0018</td>\n",
       "      <td>20.8909</td>\n",
       "      <td>0</td>\n",
       "    </tr>\n",
       "    <tr>\n",
       "      <th>1</th>\n",
       "      <td>2008-01-08 05:52:00</td>\n",
       "      <td>2980.84</td>\n",
       "      <td>2628.76</td>\n",
       "      <td>2187.5222</td>\n",
       "      <td>1268.6598</td>\n",
       "      <td>1.4503</td>\n",
       "      <td>100.0</td>\n",
       "      <td>102.4622</td>\n",
       "      <td>0.1233</td>\n",
       "      <td>1.4672</td>\n",
       "      <td>...</td>\n",
       "      <td>16.3616</td>\n",
       "      <td>0.5010</td>\n",
       "      <td>0.0289</td>\n",
       "      <td>0.0061</td>\n",
       "      <td>5.7753</td>\n",
       "      <td>0.0297</td>\n",
       "      <td>0.0556</td>\n",
       "      <td>0.0150</td>\n",
       "      <td>187.3554</td>\n",
       "      <td>1</td>\n",
       "    </tr>\n",
       "    <tr>\n",
       "      <th>2</th>\n",
       "      <td>2008-01-08 10:20:00</td>\n",
       "      <td>2847.81</td>\n",
       "      <td>2461.38</td>\n",
       "      <td>2202.7111</td>\n",
       "      <td>1010.4454</td>\n",
       "      <td>1.0032</td>\n",
       "      <td>100.0</td>\n",
       "      <td>104.3067</td>\n",
       "      <td>0.1225</td>\n",
       "      <td>1.4970</td>\n",
       "      <td>...</td>\n",
       "      <td>18.4846</td>\n",
       "      <td>0.4970</td>\n",
       "      <td>0.0093</td>\n",
       "      <td>0.0028</td>\n",
       "      <td>1.8722</td>\n",
       "      <td>0.0343</td>\n",
       "      <td>0.0115</td>\n",
       "      <td>0.0032</td>\n",
       "      <td>33.4515</td>\n",
       "      <td>0</td>\n",
       "    </tr>\n",
       "    <tr>\n",
       "      <th>3</th>\n",
       "      <td>2008-01-08 10:26:00</td>\n",
       "      <td>NaN</td>\n",
       "      <td>2544.52</td>\n",
       "      <td>2202.7111</td>\n",
       "      <td>1010.4454</td>\n",
       "      <td>1.0032</td>\n",
       "      <td>100.0</td>\n",
       "      <td>104.3067</td>\n",
       "      <td>0.1225</td>\n",
       "      <td>1.4727</td>\n",
       "      <td>...</td>\n",
       "      <td>11.3646</td>\n",
       "      <td>0.5053</td>\n",
       "      <td>0.0121</td>\n",
       "      <td>0.0029</td>\n",
       "      <td>2.3957</td>\n",
       "      <td>0.0139</td>\n",
       "      <td>0.0187</td>\n",
       "      <td>0.0064</td>\n",
       "      <td>134.2014</td>\n",
       "      <td>0</td>\n",
       "    </tr>\n",
       "    <tr>\n",
       "      <th>4</th>\n",
       "      <td>2008-01-08 11:28:00</td>\n",
       "      <td>2975.64</td>\n",
       "      <td>2508.28</td>\n",
       "      <td>2202.7111</td>\n",
       "      <td>1010.4454</td>\n",
       "      <td>1.0032</td>\n",
       "      <td>100.0</td>\n",
       "      <td>104.3067</td>\n",
       "      <td>0.1225</td>\n",
       "      <td>1.5079</td>\n",
       "      <td>...</td>\n",
       "      <td>21.8407</td>\n",
       "      <td>0.5001</td>\n",
       "      <td>0.0119</td>\n",
       "      <td>0.0033</td>\n",
       "      <td>2.3709</td>\n",
       "      <td>0.0139</td>\n",
       "      <td>0.0187</td>\n",
       "      <td>0.0064</td>\n",
       "      <td>134.2014</td>\n",
       "      <td>0</td>\n",
       "    </tr>\n",
       "  </tbody>\n",
       "</table>\n",
       "<p>5 rows × 560 columns</p>\n",
       "</div>"
      ],
      "text/plain": [
       "                  Time        0        1          2          3       4      5  \\\n",
       "0  2008-01-08 02:02:00  3016.64  2492.80  2246.4889  1006.9548  1.0997  100.0   \n",
       "1  2008-01-08 05:52:00  2980.84  2628.76  2187.5222  1268.6598  1.4503  100.0   \n",
       "2  2008-01-08 10:20:00  2847.81  2461.38  2202.7111  1010.4454  1.0032  100.0   \n",
       "3  2008-01-08 10:26:00      NaN  2544.52  2202.7111  1010.4454  1.0032  100.0   \n",
       "4  2008-01-08 11:28:00  2975.64  2508.28  2202.7111  1010.4454  1.0032  100.0   \n",
       "\n",
       "          6       7       8  ...      577     582     583     584     585  \\\n",
       "0  103.3222  0.1184  1.5068  ...  21.2281  0.4984  0.0146  0.0040  2.9336   \n",
       "1  102.4622  0.1233  1.4672  ...  16.3616  0.5010  0.0289  0.0061  5.7753   \n",
       "2  104.3067  0.1225  1.4970  ...  18.4846  0.4970  0.0093  0.0028  1.8722   \n",
       "3  104.3067  0.1225  1.4727  ...  11.3646  0.5053  0.0121  0.0029  2.3957   \n",
       "4  104.3067  0.1225  1.5079  ...  21.8407  0.5001  0.0119  0.0033  2.3709   \n",
       "\n",
       "      586     587     588       589  Pass/Fail  \n",
       "0  0.0296  0.0062  0.0018   20.8909          0  \n",
       "1  0.0297  0.0556  0.0150  187.3554          1  \n",
       "2  0.0343  0.0115  0.0032   33.4515          0  \n",
       "3  0.0139  0.0187  0.0064  134.2014          0  \n",
       "4  0.0139  0.0187  0.0064  134.2014          0  \n",
       "\n",
       "[5 rows x 560 columns]"
      ]
     },
     "execution_count": 11,
     "metadata": {},
     "output_type": "execute_result"
    }
   ],
   "source": [
    "#45%以上の欠損値の除外\n",
    "df_na_columns = df_na.query('Percentage > 45').index #32個あり\n",
    "df = df.drop(df_na_columns,axis=1)\n",
    "print(df.shape)\n",
    "df.head()"
   ]
  },
  {
   "cell_type": "code",
   "execution_count": 12,
   "metadata": {},
   "outputs": [],
   "source": [
    "#percentageのrange設定\n",
    "df_na['Percentage_range'] = df_na.astype({'Percentage': int})['Percentage']\n",
    "for i in range(len(df_na['Percentage_range'])):\n",
    "    for ran in range(10,110,10):\n",
    "        if df_na['Percentage_range'][i] <= ran and  df_na['Percentage_range'][i] >= ran-10:\n",
    "            df_na['Percentage_range'][i] = ran-10\n",
    "        else:\n",
    "            continue"
   ]
  },
  {
   "cell_type": "code",
   "execution_count": 13,
   "metadata": {},
   "outputs": [],
   "source": [
    "df_na['Percentage_45over'] = '欠損'\n",
    "for i in range(len(df_na['Percentage_range'])):\n",
    "    if df_na['Percentage'][i] >= 45: \n",
    "        df_na['Percentage_45over'][i] = '45%以上欠損'\n",
    "    else:\n",
    "        df_na['Percentage_45over'][i] = '45%以下欠損'"
   ]
  },
  {
   "cell_type": "code",
   "execution_count": 15,
   "metadata": {},
   "outputs": [
    {
     "data": {
      "image/png": "[encoded data removed]",
      "text/plain": [
       "<Figure size 432x432 with 1 Axes>"
      ]
     },
     "metadata": {},
     "output_type": "display_data"
    }
   ],
   "source": [
    "plt.figure(figsize=(6, 6), facecolor='w')\n",
    "plt.pie(df_na['Percentage_45over'].value_counts(),\n",
    "        labels=df_na[\"Percentage_45over\"].value_counts().index,\n",
    "        autopct='%.1f%%',\n",
    "        startangle=90,\n",
    "        counterclock=False,\n",
    "        textprops={'fontsize':14},\n",
    "        wedgeprops={'linewidth':3, 'edgecolor':'white'})\n",
    "# plt.axis('equal')\n",
    "plt.title('欠損データ')\n",
    "plt.show()"
   ]
  },
  {
   "cell_type": "code",
   "execution_count": 16,
   "metadata": {},
   "outputs": [
    {
     "data": {
      "text/html": [
       "<div>\n",
       "<style scoped>\n",
       "    .dataframe tbody tr th:only-of-type {\n",
       "        vertical-align: middle;\n",
       "    }\n",
       "\n",
       "    .dataframe tbody tr th {\n",
       "        vertical-align: top;\n",
       "    }\n",
       "\n",
       "    .dataframe thead th {\n",
       "        text-align: right;\n",
       "    }\n",
       "</style>\n",
       "<table border=\"1\" class=\"dataframe\">\n",
       "  <thead>\n",
       "    <tr style=\"text-align: right;\">\n",
       "      <th></th>\n",
       "      <th>Pass/Fail</th>\n",
       "    </tr>\n",
       "  </thead>\n",
       "  <tbody>\n",
       "    <tr>\n",
       "      <th>59</th>\n",
       "      <td>0.155796</td>\n",
       "    </tr>\n",
       "    <tr>\n",
       "      <th>103</th>\n",
       "      <td>0.151203</td>\n",
       "    </tr>\n",
       "    <tr>\n",
       "      <th>510</th>\n",
       "      <td>0.131593</td>\n",
       "    </tr>\n",
       "    <tr>\n",
       "      <th>348</th>\n",
       "      <td>0.130180</td>\n",
       "    </tr>\n",
       "    <tr>\n",
       "      <th>431</th>\n",
       "      <td>0.120851</td>\n",
       "    </tr>\n",
       "    <tr>\n",
       "      <th>434</th>\n",
       "      <td>0.112116</td>\n",
       "    </tr>\n",
       "    <tr>\n",
       "      <th>430</th>\n",
       "      <td>0.110067</td>\n",
       "    </tr>\n",
       "    <tr>\n",
       "      <th>435</th>\n",
       "      <td>0.109067</td>\n",
       "    </tr>\n",
       "    <tr>\n",
       "      <th>21</th>\n",
       "      <td>0.108488</td>\n",
       "    </tr>\n",
       "    <tr>\n",
       "      <th>436</th>\n",
       "      <td>0.106910</td>\n",
       "    </tr>\n",
       "    <tr>\n",
       "      <th>129</th>\n",
       "      <td>0.103373</td>\n",
       "    </tr>\n",
       "    <tr>\n",
       "      <th>210</th>\n",
       "      <td>0.102545</td>\n",
       "    </tr>\n",
       "    <tr>\n",
       "      <th>298</th>\n",
       "      <td>0.102519</td>\n",
       "    </tr>\n",
       "    <tr>\n",
       "      <th>163</th>\n",
       "      <td>0.100330</td>\n",
       "    </tr>\n",
       "  </tbody>\n",
       "</table>\n",
       "</div>"
      ],
      "text/plain": [
       "     Pass/Fail\n",
       "59    0.155796\n",
       "103   0.151203\n",
       "510   0.131593\n",
       "348   0.130180\n",
       "431   0.120851\n",
       "434   0.112116\n",
       "430   0.110067\n",
       "435   0.109067\n",
       "21    0.108488\n",
       "436   0.106910\n",
       "129   0.103373\n",
       "210   0.102545\n",
       "298   0.102519\n",
       "163   0.100330"
      ]
     },
     "execution_count": 16,
     "metadata": {},
     "output_type": "execute_result"
    }
   ],
   "source": [
    "# 目的変数と説明変数の相関を確認する(欠損値補完なし)\n",
    "corr = df.corr()\n",
    "corr['Pass/Fail'].sort_values(ascending=False)[1:15].to_frame() #相関の高い説明変数の抽出"
   ]
  },
  {
   "cell_type": "code",
   "execution_count": 17,
   "metadata": {},
   "outputs": [],
   "source": [
    "#とりあえず欠損値の補完をしてみる\n",
    "df_median = df.fillna(df.median())#中央値での補完\n",
    "df_0 = df.fillna(0)"
   ]
  },
  {
   "cell_type": "code",
   "execution_count": 18,
   "metadata": {},
   "outputs": [
    {
     "data": {
      "text/html": [
       "<div>\n",
       "<style scoped>\n",
       "    .dataframe tbody tr th:only-of-type {\n",
       "        vertical-align: middle;\n",
       "    }\n",
       "\n",
       "    .dataframe tbody tr th {\n",
       "        vertical-align: top;\n",
       "    }\n",
       "\n",
       "    .dataframe thead th {\n",
       "        text-align: right;\n",
       "    }\n",
       "</style>\n",
       "<table border=\"1\" class=\"dataframe\">\n",
       "  <thead>\n",
       "    <tr style=\"text-align: right;\">\n",
       "      <th></th>\n",
       "      <th>Pass/Fail</th>\n",
       "    </tr>\n",
       "  </thead>\n",
       "  <tbody>\n",
       "    <tr>\n",
       "      <th>59</th>\n",
       "      <td>0.156008</td>\n",
       "    </tr>\n",
       "    <tr>\n",
       "      <th>103</th>\n",
       "      <td>0.151230</td>\n",
       "    </tr>\n",
       "    <tr>\n",
       "      <th>510</th>\n",
       "      <td>0.131662</td>\n",
       "    </tr>\n",
       "    <tr>\n",
       "      <th>348</th>\n",
       "      <td>0.130807</td>\n",
       "    </tr>\n",
       "    <tr>\n",
       "      <th>431</th>\n",
       "      <td>0.119936</td>\n",
       "    </tr>\n",
       "    <tr>\n",
       "      <th>434</th>\n",
       "      <td>0.111312</td>\n",
       "    </tr>\n",
       "    <tr>\n",
       "      <th>430</th>\n",
       "      <td>0.109115</td>\n",
       "    </tr>\n",
       "    <tr>\n",
       "      <th>21</th>\n",
       "      <td>0.108333</td>\n",
       "    </tr>\n",
       "    <tr>\n",
       "      <th>435</th>\n",
       "      <td>0.108260</td>\n",
       "    </tr>\n",
       "    <tr>\n",
       "      <th>436</th>\n",
       "      <td>0.106119</td>\n",
       "    </tr>\n",
       "    <tr>\n",
       "      <th>210</th>\n",
       "      <td>0.103348</td>\n",
       "    </tr>\n",
       "    <tr>\n",
       "      <th>129</th>\n",
       "      <td>0.102799</td>\n",
       "    </tr>\n",
       "    <tr>\n",
       "      <th>298</th>\n",
       "      <td>0.101672</td>\n",
       "    </tr>\n",
       "    <tr>\n",
       "      <th>163</th>\n",
       "      <td>0.099506</td>\n",
       "    </tr>\n",
       "  </tbody>\n",
       "</table>\n",
       "</div>"
      ],
      "text/plain": [
       "     Pass/Fail\n",
       "59    0.156008\n",
       "103   0.151230\n",
       "510   0.131662\n",
       "348   0.130807\n",
       "431   0.119936\n",
       "434   0.111312\n",
       "430   0.109115\n",
       "21    0.108333\n",
       "435   0.108260\n",
       "436   0.106119\n",
       "210   0.103348\n",
       "129   0.102799\n",
       "298   0.101672\n",
       "163   0.099506"
      ]
     },
     "execution_count": 18,
     "metadata": {},
     "output_type": "execute_result"
    }
   ],
   "source": [
    "# 目的変数と説明変数の相関を確認する(欠損値補完あり)\n",
    "corr = df_median.corr()\n",
    "corr['Pass/Fail'].sort_values(ascending=False)[1:15].to_frame() #相関の高い説明変数の抽出"
   ]
  },
  {
   "cell_type": "code",
   "execution_count": 19,
   "metadata": {},
   "outputs": [],
   "source": [
    "#月のデータ抽出\n",
    "df[\"Month\"] = pd.to_datetime(df[\"Time\"]).dt.strftime(\"%Y-%m\")\n",
    "df[\"Hour\"] = pd.to_datetime(df[\"Time\"]).dt.strftime(\"%H\")"
   ]
  },
  {
   "cell_type": "code",
   "execution_count": 20,
   "metadata": {},
   "outputs": [
    {
     "data": {
      "text/plain": [
       "0    1463\n",
       "1     104\n",
       "Name: Pass/Fail, dtype: int64"
      ]
     },
     "execution_count": 20,
     "metadata": {},
     "output_type": "execute_result"
    }
   ],
   "source": [
    "df['Pass/Fail'].value_counts()"
   ]
  },
  {
   "cell_type": "code",
   "execution_count": 21,
   "metadata": {},
   "outputs": [
    {
     "data": {
      "text/plain": [
       "(array([ 0,  1,  2,  3,  4,  5,  6,  7,  8,  9, 10, 11, 12, 13, 14, 15, 16,\n",
       "        17, 18, 19, 20, 21, 22, 23]),\n",
       " <a list of 24 Text xticklabel objects>)"
      ]
     },
     "execution_count": 21,
     "metadata": {},
     "output_type": "execute_result"
    },
    {
     "data": {
      "image/png": "[encoded data removed]",
      "text/plain": [
       "<Figure size 432x288 with 1 Axes>"
      ]
     },
     "metadata": {
      "needs_background": "light"
     },
     "output_type": "display_data"
    }
   ],
   "source": [
    "sns.countplot(\"Hour\", data = df,hue='Pass/Fail')\n",
    "plt.xticks(rotation=45)"
   ]
  },
  {
   "cell_type": "code",
   "execution_count": 22,
   "metadata": {},
   "outputs": [
    {
     "data": {
      "text/plain": [
       "(array([ 0,  1,  2,  3,  4,  5,  6,  7,  8,  9, 10, 11]),\n",
       " <a list of 12 Text xticklabel objects>)"
      ]
     },
     "execution_count": 22,
     "metadata": {},
     "output_type": "execute_result"
    },
    {
     "data": {
      "image/png": "[encoded data removed]",
      "text/plain": [
       "<Figure size 432x288 with 1 Axes>"
      ]
     },
     "metadata": {
      "needs_background": "light"
     },
     "output_type": "display_data"
    }
   ],
   "source": [
    "sns.countplot(\"Month\", data = df,hue='Pass/Fail')\n",
    "plt.xticks(rotation=45)"
   ]
  },
  {
   "cell_type": "code",
   "execution_count": 23,
   "metadata": {},
   "outputs": [
    {
     "name": "stdout",
     "output_type": "stream",
     "text": [
      "月単位\n",
      " 2008-08    471\n",
      "2008-09    413\n",
      "2008-10    123\n",
      "2008-07    114\n",
      "2008-02     98\n",
      "2008-06     67\n",
      "2008-05     62\n",
      "2008-01     51\n",
      "2008-03     50\n",
      "2008-04     49\n",
      "2008-11     35\n",
      "2008-12     34\n",
      "Name: Month, dtype: int64\n",
      "不良品のカウント Month    Pass/Fail\n",
      "2008-01  0             48\n",
      "         1              3\n",
      "2008-02  0             93\n",
      "         1              5\n",
      "2008-03  0             49\n",
      "         1              1\n",
      "2008-04  0             46\n",
      "         1              3\n",
      "2008-05  0             55\n",
      "         1              7\n",
      "2008-06  0             61\n",
      "         1              6\n",
      "2008-07  0             98\n",
      "         1             16\n",
      "2008-08  0            433\n",
      "         1             38\n",
      "2008-09  0            396\n",
      "         1             17\n",
      "2008-10  0            117\n",
      "         1              6\n",
      "2008-11  0             33\n",
      "         1              2\n",
      "2008-12  0             34\n",
      "Name: Time, dtype: int64\n"
     ]
    }
   ],
   "source": [
    "#グラフ詳細\n",
    "print('月単位\\n',df['Month'].value_counts())\n",
    "print('不良品のカウント',df.groupby(['Month','Pass/Fail'])['Time'].count())"
   ]
  },
  {
   "cell_type": "markdown",
   "metadata": {},
   "source": [
    "割合的にみると**7月**が1番不良品の数が多くなってしまっている"
   ]
  },
  {
   "cell_type": "code",
   "execution_count": null,
   "metadata": {},
   "outputs": [],
   "source": []
  }
 ],
 "metadata": {
  "kernelspec": {
   "display_name": "Python 3",
   "language": "python",
   "name": "python3"
  },
  "language_info": {
   "codemirror_mode": {
    "name": "ipython",
    "version": 3
   },
   "file_extension": ".py",
   "mimetype": "text/x-python",
   "name": "python",
   "nbconvert_exporter": "python",
   "pygments_lexer": "ipython3",
   "version": "3.7.6"
  }
 },
 "nbformat": 4,
 "nbformat_minor": 4
}
